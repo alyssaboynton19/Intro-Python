{
  "nbformat": 4,
  "nbformat_minor": 0,
  "metadata": {
    "colab": {
      "name": "Week 6 Assignment",
      "provenance": [],
      "authorship_tag": "ABX9TyNgxwAbFnPcyMyCB/L0qWKh",
      "include_colab_link": true
    },
    "kernelspec": {
      "name": "python3",
      "display_name": "Python 3"
    }
  },
  "cells": [
    {
      "cell_type": "markdown",
      "metadata": {
        "id": "view-in-github",
        "colab_type": "text"
      },
      "source": [
        "<a href=\"https://colab.research.google.com/github/alyssaboynton19/Intro-Python/blob/master/Week_6_Assignment.ipynb\" target=\"_parent\"><img src=\"https://colab.research.google.com/assets/colab-badge.svg\" alt=\"Open In Colab\"/></a>"
      ]
    },
    {
      "cell_type": "code",
      "metadata": {
        "id": "5Yu6gr9-wOIo",
        "outputId": "fbcf9948-5931-490e-fb9a-3a17a650e3d6",
        "colab": {
          "base_uri": "https://localhost:8080/",
          "height": 34
        }
      },
      "source": [
        "hello_world = ['Hello', 'World']\n",
        "print(hello_world)"
      ],
      "execution_count": 33,
      "outputs": [
        {
          "output_type": "stream",
          "text": [
            "['Hello', 'World']\n"
          ],
          "name": "stdout"
        }
      ]
    },
    {
      "cell_type": "code",
      "metadata": {
        "id": "wtg2ljtjxxdf",
        "outputId": "02fd1b6e-d2b2-411a-e4d3-47e6529c978c",
        "colab": {
          "base_uri": "https://localhost:8080/",
          "height": 151
        }
      },
      "source": [
        "food_list = []\n",
        "user_food = input('Please enter a food or enter \"stop\" to stop: ')\n",
        "while not user_food == \"stop\":\n",
        "  food_list.append(user_food)\n",
        "  user_food = input('Please enter a food or enter \"stop\" to stop: ')\n",
        "print('Your list included', food_list)"
      ],
      "execution_count": 34,
      "outputs": [
        {
          "output_type": "stream",
          "text": [
            "Please enter a food or enter \"stop\" to stop: strawberries\n",
            "Please enter a food or enter \"stop\" to stop: blueberries\n",
            "Please enter a food or enter \"stop\" to stop: melons\n",
            "Please enter a food or enter \"stop\" to stop: olives\n",
            "Please enter a food or enter \"stop\" to stop: peaches\n",
            "Please enter a food or enter \"stop\" to stop: pears\n",
            "Please enter a food or enter \"stop\" to stop: stop\n",
            "Your list included ['strawberries', 'blueberries', 'melons', 'olives', 'peaches', 'pears']\n"
          ],
          "name": "stdout"
        }
      ]
    },
    {
      "cell_type": "code",
      "metadata": {
        "id": "iGvfwYPlywdj",
        "outputId": "bfd2a773-015e-4795-a7e8-74da183598fa",
        "colab": {
          "base_uri": "https://localhost:8080/",
          "height": 101
        }
      },
      "source": [
        "print('The current list includes', food_list)\n",
        "user_food_2 = input('Choose one of those foods to delete from the list: ')\n",
        "while not user_food_2 in food_list:\n",
        "  print(\"You did not choose a fruit from the list.\")\n",
        "  user_food_2 = input('Choose one of the foods from the list to delete: ')\n",
        "food_list.remove(user_food_2)\n",
        "print('The list now includes', food_list)"
      ],
      "execution_count": 35,
      "outputs": [
        {
          "output_type": "stream",
          "text": [
            "The current list includes ['strawberries', 'blueberries', 'melons', 'olives', 'peaches', 'pears']\n",
            "Choose one of those foods to delete from the list: cantaloupe\n",
            "You did not choose a fruit from the list.\n",
            "Choose one of the foods from the list to delete: blueberries\n",
            "The list now includes ['strawberries', 'melons', 'olives', 'peaches', 'pears']\n"
          ],
          "name": "stdout"
        }
      ]
    },
    {
      "cell_type": "code",
      "metadata": {
        "id": "LEYO8G470GUm",
        "outputId": "1bf376f0-7e7d-43e0-cb5d-f24c2ffc4964",
        "colab": {
          "base_uri": "https://localhost:8080/",
          "height": 84
        }
      },
      "source": [
        "for x in food_list:\n",
        "  if x == 'olives':\n",
        "    continue\n",
        "  elif x == 'olive':\n",
        "    continue\n",
        "  else:\n",
        "    print(x, 'is a food in the list.')\n"
      ],
      "execution_count": 36,
      "outputs": [
        {
          "output_type": "stream",
          "text": [
            "strawberries is a food in the list.\n",
            "melons is a food in the list.\n",
            "peaches is a food in the list.\n",
            "pears is a food in the list.\n"
          ],
          "name": "stdout"
        }
      ]
    }
  ]
}