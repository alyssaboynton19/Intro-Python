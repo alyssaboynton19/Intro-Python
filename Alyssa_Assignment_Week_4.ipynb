{
  "nbformat": 4,
  "nbformat_minor": 0,
  "metadata": {
    "colab": {
      "name": "Alyssa Assignment Week 4.ipynb",
      "provenance": [],
      "authorship_tag": "ABX9TyN9EvKuR/NyNU9C69mFjPVf",
      "include_colab_link": true
    },
    "kernelspec": {
      "name": "python3",
      "display_name": "Python 3"
    }
  },
  "cells": [
    {
      "cell_type": "markdown",
      "metadata": {
        "id": "view-in-github",
        "colab_type": "text"
      },
      "source": [
        "<a href=\"https://colab.research.google.com/github/alyssaboynton19/Intro-Python/blob/master/Alyssa_Assignment_Week_4.ipynb\" target=\"_parent\"><img src=\"https://colab.research.google.com/assets/colab-badge.svg\" alt=\"Open In Colab\"/></a>"
      ]
    },
    {
      "cell_type": "code",
      "metadata": {
        "id": "ArzG_e53aRw6",
        "colab_type": "code",
        "colab": {
          "base_uri": "https://localhost:8080/",
          "height": 34
        },
        "outputId": "973dc895-ee8f-4b33-c9e1-cd7bc11e581e"
      },
      "source": [
        "def helloWorld():\n",
        "  print('Hello, World!')\n",
        "\n",
        "helloWorld()"
      ],
      "execution_count": 14,
      "outputs": [
        {
          "output_type": "stream",
          "text": [
            "Hello, World!\n"
          ],
          "name": "stdout"
        }
      ]
    },
    {
      "cell_type": "code",
      "metadata": {
        "id": "poQcffXFFbnF",
        "colab_type": "code",
        "colab": {
          "base_uri": "https://localhost:8080/",
          "height": 101
        },
        "outputId": "b6c50eb1-e40b-4ffd-e841-3ed91123039c"
      },
      "source": [
        "def helloUser():\n",
        "  for count in range(5):\n",
        "    print('Hello, user!')\n",
        "\n",
        "helloUser()"
      ],
      "execution_count": 15,
      "outputs": [
        {
          "output_type": "stream",
          "text": [
            "Hello, user!\n",
            "Hello, user!\n",
            "Hello, user!\n",
            "Hello, user!\n",
            "Hello, user!\n"
          ],
          "name": "stdout"
        }
      ]
    },
    {
      "cell_type": "code",
      "metadata": {
        "id": "bAf8YXJeaseR",
        "colab_type": "code",
        "colab": {
          "base_uri": "https://localhost:8080/",
          "height": 269
        },
        "outputId": "3a68b9e7-cc89-4eaa-b51a-35ac1f3739eb"
      },
      "source": [
        "def helloUser(number):\n",
        "  for count in range(number):\n",
        "    print('Hello, user!')\n",
        "\n",
        "helloUser(15)"
      ],
      "execution_count": 20,
      "outputs": [
        {
          "output_type": "stream",
          "text": [
            "Hello, user!\n",
            "Hello, user!\n",
            "Hello, user!\n",
            "Hello, user!\n",
            "Hello, user!\n",
            "Hello, user!\n",
            "Hello, user!\n",
            "Hello, user!\n",
            "Hello, user!\n",
            "Hello, user!\n",
            "Hello, user!\n",
            "Hello, user!\n",
            "Hello, user!\n",
            "Hello, user!\n",
            "Hello, user!\n"
          ],
          "name": "stdout"
        }
      ]
    },
    {
      "cell_type": "code",
      "metadata": {
        "id": "xV5LN0C2cdHK",
        "colab_type": "code",
        "colab": {
          "base_uri": "https://localhost:8080/",
          "height": 34
        },
        "outputId": "daad5883-c0d2-4197-8524-5b79fe196965"
      },
      "source": [
        "def square(number):\n",
        "  answer = number * number\n",
        "  return answer\n",
        "\n",
        "X = square(3)      #just testing with Matt's code to be sure it worked\n",
        "Y= square(5)\n",
        "print(\"The answers are\", X, \"and\", Y)"
      ],
      "execution_count": 17,
      "outputs": [
        {
          "output_type": "stream",
          "text": [
            "The answers are 9 and 25\n"
          ],
          "name": "stdout"
        }
      ]
    },
    {
      "cell_type": "code",
      "metadata": {
        "id": "uXRxd37JuAcv",
        "colab_type": "code",
        "colab": {
          "base_uri": "https://localhost:8080/",
          "height": 34
        },
        "outputId": "236b0611-f89f-44da-a269-007afcc2a02c"
      },
      "source": [
        "def bigger10(number):\n",
        "  if number > 10:\n",
        "    return(number)\n",
        "  elif number <= 10:\n",
        "    return(10)\n",
        "\n",
        "bigger10(14)"
      ],
      "execution_count": 21,
      "outputs": [
        {
          "output_type": "execute_result",
          "data": {
            "text/plain": [
              "14"
            ]
          },
          "metadata": {
            "tags": []
          },
          "execution_count": 21
        }
      ]
    },
    {
      "cell_type": "code",
      "metadata": {
        "id": "UFADo70GI_DV",
        "colab_type": "code",
        "colab": {
          "base_uri": "https://localhost:8080/",
          "height": 34
        },
        "outputId": "d3d6877d-b510-4002-f0d8-a22f9e37e59d"
      },
      "source": [
        "def bigger_number(X, Y):\n",
        "  if X > Y:\n",
        "    answer = X\n",
        "  elif X < Y:\n",
        "    answer = Y\n",
        "  else:\n",
        "    answer = 'The two numbers are equal'\n",
        "  return answer\n",
        "\n",
        "bigger_number(14, 23)"
      ],
      "execution_count": 6,
      "outputs": [
        {
          "output_type": "execute_result",
          "data": {
            "text/plain": [
              "23"
            ]
          },
          "metadata": {
            "tags": []
          },
          "execution_count": 6
        }
      ]
    },
    {
      "cell_type": "code",
      "metadata": {
        "id": "pu4luIV-xNah",
        "colab_type": "code",
        "colab": {
          "base_uri": "https://localhost:8080/",
          "height": 67
        },
        "outputId": "58cf1860-2a1f-476b-a95f-c601324ff40b"
      },
      "source": [
        "X = int(input('Please enter your age: '))\n",
        "Y = int(input('Please enter the age of your friend: '))\n",
        "answer = bigger_number(X, Y)\n",
        "if answer == X or answer == Y:\n",
        "  print('The older of the two people is ' + str(answer) + ' years old.' )\n",
        "else:\n",
        "  print('You and your friend are the same age!')"
      ],
      "execution_count": 13,
      "outputs": [
        {
          "output_type": "stream",
          "text": [
            "Please enter your age: 19\n",
            "Please enter the age of your friend: 19\n",
            "You and your friend are the same age!\n"
          ],
          "name": "stdout"
        }
      ]
    },
    {
      "cell_type": "code",
      "metadata": {
        "id": "QXLKHZqdCKsE",
        "colab_type": "code",
        "colab": {
          "base_uri": "https://localhost:8080/",
          "height": 168
        },
        "outputId": "8d72c4c5-d369-4182-b4e9-999971e3e7d2"
      },
      "source": [
        "def play_the_game(number):\n",
        " count = 0\n",
        " print('I have chosen a number between 1 and 100. Can you guess it?')\n",
        " while True:\n",
        "  guess = int(input('Take a guess: '))\n",
        "  count = count + 1\n",
        "  if guess < number:\n",
        "    print('Your guess is too low. Try again.')\n",
        "  elif guess > number: \n",
        "    print('Your guess is too high. Try again.')\n",
        "  else:\n",
        "    break\n",
        " print('You correctly guessed my number! It took you ' + str(count) + ' guesses.')\n",
        "\n",
        "play_the_game(27)"
      ],
      "execution_count": null,
      "outputs": [
        {
          "output_type": "stream",
          "text": [
            "I have chosen a number between 1 and 100. Can you guess it?\n",
            "Take a guess: 85\n",
            "Your guess is too high. Try again.\n",
            "Take a guess: 30\n",
            "Your guess is too high. Try again.\n",
            "Take a guess: 12\n",
            "Your guess is too low. Try again.\n",
            "Take a guess: 27\n",
            "You correctly guessed my number! It took you 4 guesses.\n"
          ],
          "name": "stdout"
        }
      ]
    },
    {
      "cell_type": "code",
      "metadata": {
        "id": "ibzgh96iDoqE",
        "colab_type": "code",
        "colab": {
          "base_uri": "https://localhost:8080/",
          "height": 302
        },
        "outputId": "1eb94ece-ab23-4123-9bfd-d509adeabdfd"
      },
      "source": [
        "import random    #this is just me testing to be sure the function would work with the random number generator\n",
        "\n",
        "play_the_game(random.randint(1, 100))"
      ],
      "execution_count": null,
      "outputs": [
        {
          "output_type": "stream",
          "text": [
            "I have chosen a number between 1 and 100. Can you guess it?\n",
            "Take a guess: 54\n",
            "Your guess is too high. Try again.\n",
            "Take a guess: 40\n",
            "Your guess is too high. Try again.\n",
            "Take a guess: 30\n",
            "Your guess is too high. Try again.\n",
            "Take a guess: 20\n",
            "Your guess is too high. Try again.\n",
            "Take a guess: 10\n",
            "Your guess is too high. Try again.\n",
            "Take a guess: 5\n",
            "Your guess is too high. Try again.\n",
            "Take a guess: 2\n",
            "Your guess is too low. Try again.\n",
            "Take a guess: 3\n",
            "You correctly guessed my number! It took you 8 guesses.\n"
          ],
          "name": "stdout"
        }
      ]
    }
  ]
}