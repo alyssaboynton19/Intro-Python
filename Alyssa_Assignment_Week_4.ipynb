{
  "nbformat": 4,
  "nbformat_minor": 0,
  "metadata": {
    "colab": {
      "name": "Alyssa Assignment Week 4.ipynb",
      "provenance": [],
      "authorship_tag": "ABX9TyNrM/ZUkeBkvbqgkJaJmiKw",
      "include_colab_link": true
    },
    "kernelspec": {
      "name": "python3",
      "display_name": "Python 3"
    }
  },
  "cells": [
    {
      "cell_type": "markdown",
      "metadata": {
        "id": "view-in-github",
        "colab_type": "text"
      },
      "source": [
        "<a href=\"https://colab.research.google.com/github/alyssaboynton19/Intro-Python/blob/master/Alyssa_Assignment_Week_4.ipynb\" target=\"_parent\"><img src=\"https://colab.research.google.com/assets/colab-badge.svg\" alt=\"Open In Colab\"/></a>"
      ]
    },
    {
      "cell_type": "code",
      "metadata": {
        "id": "ArzG_e53aRw6",
        "colab_type": "code",
        "colab": {
          "base_uri": "https://localhost:8080/",
          "height": 34
        },
        "outputId": "f68210f9-470a-4c05-d865-12df1fddb45c"
      },
      "source": [
        "def helloWorld():\n",
        "  print('Hello, World!')\n",
        "\n",
        "helloWorld()"
      ],
      "execution_count": 1,
      "outputs": [
        {
          "output_type": "stream",
          "text": [
            "Hello, World!\n"
          ],
          "name": "stdout"
        }
      ]
    },
    {
      "cell_type": "code",
      "metadata": {
        "id": "poQcffXFFbnF",
        "colab_type": "code",
        "colab": {
          "base_uri": "https://localhost:8080/",
          "height": 101
        },
        "outputId": "de843355-5dc2-42a3-cf83-f2471ca3c399"
      },
      "source": [
        "def helloUser():\n",
        "  for count in range(5):\n",
        "    print('Hello, user!')\n",
        "\n",
        "helloUser()"
      ],
      "execution_count": 2,
      "outputs": [
        {
          "output_type": "stream",
          "text": [
            "Hello, user!\n",
            "Hello, user!\n",
            "Hello, user!\n",
            "Hello, user!\n",
            "Hello, user!\n"
          ],
          "name": "stdout"
        }
      ]
    },
    {
      "cell_type": "code",
      "metadata": {
        "id": "bAf8YXJeaseR",
        "colab_type": "code",
        "colab": {
          "base_uri": "https://localhost:8080/",
          "height": 487
        },
        "outputId": "58afbb75-eb77-4a30-e856-caf7024e5707"
      },
      "source": [
        "def helloUser():\n",
        "  for count in range(int(input('Please enter a number: '))):\n",
        "    print('Hello, user!')\n",
        "\n",
        "helloUser()"
      ],
      "execution_count": 3,
      "outputs": [
        {
          "output_type": "stream",
          "text": [
            "Please enter a number: 27\n",
            "Hello, user!\n",
            "Hello, user!\n",
            "Hello, user!\n",
            "Hello, user!\n",
            "Hello, user!\n",
            "Hello, user!\n",
            "Hello, user!\n",
            "Hello, user!\n",
            "Hello, user!\n",
            "Hello, user!\n",
            "Hello, user!\n",
            "Hello, user!\n",
            "Hello, user!\n",
            "Hello, user!\n",
            "Hello, user!\n",
            "Hello, user!\n",
            "Hello, user!\n",
            "Hello, user!\n",
            "Hello, user!\n",
            "Hello, user!\n",
            "Hello, user!\n",
            "Hello, user!\n",
            "Hello, user!\n",
            "Hello, user!\n",
            "Hello, user!\n",
            "Hello, user!\n",
            "Hello, user!\n"
          ],
          "name": "stdout"
        }
      ]
    },
    {
      "cell_type": "code",
      "metadata": {
        "id": "xV5LN0C2cdHK",
        "colab_type": "code",
        "colab": {
          "base_uri": "https://localhost:8080/",
          "height": 34
        },
        "outputId": "5cc12cb9-40db-4cf3-cfc7-c3ec8210e4f3"
      },
      "source": [
        "def square(number):\n",
        "  answer = number * number\n",
        "  return answer\n",
        "\n",
        "X = square(3)      #just testing with Matt's code to be sure it worked\n",
        "Y= square(5)\n",
        "print(\"The answers are\", X, \"and\", Y)"
      ],
      "execution_count": 6,
      "outputs": [
        {
          "output_type": "stream",
          "text": [
            "The answers are 9 and 25\n"
          ],
          "name": "stdout"
        }
      ]
    },
    {
      "cell_type": "code",
      "metadata": {
        "id": "uXRxd37JuAcv",
        "colab_type": "code",
        "colab": {
          "base_uri": "https://localhost:8080/",
          "height": 195
        },
        "outputId": "224d2094-6973-4755-d1bf-f9b98f16f29e"
      },
      "source": [
        "def bigger10(number):\n",
        "  number = int(input('Please enter a number: '))\n",
        "  if number > 10:\n",
        "    return(number)\n",
        "  elif number <= 10:\n",
        "    return('10')\n",
        "\n",
        "bigger10(number)"
      ],
      "execution_count": 2,
      "outputs": [
        {
          "output_type": "error",
          "ename": "NameError",
          "evalue": "ignored",
          "traceback": [
            "\u001b[0;31m---------------------------------------------------------------------------\u001b[0m",
            "\u001b[0;31mNameError\u001b[0m                                 Traceback (most recent call last)",
            "\u001b[0;32m<ipython-input-2-6e3fa7c6e86d>\u001b[0m in \u001b[0;36m<module>\u001b[0;34m()\u001b[0m\n\u001b[1;32m      6\u001b[0m     \u001b[0;32mreturn\u001b[0m\u001b[0;34m(\u001b[0m\u001b[0;34m'10'\u001b[0m\u001b[0;34m)\u001b[0m\u001b[0;34m\u001b[0m\u001b[0;34m\u001b[0m\u001b[0m\n\u001b[1;32m      7\u001b[0m \u001b[0;34m\u001b[0m\u001b[0m\n\u001b[0;32m----> 8\u001b[0;31m \u001b[0mbigger10\u001b[0m\u001b[0;34m(\u001b[0m\u001b[0mnumber\u001b[0m\u001b[0;34m)\u001b[0m\u001b[0;34m\u001b[0m\u001b[0;34m\u001b[0m\u001b[0m\n\u001b[0m",
            "\u001b[0;31mNameError\u001b[0m: name 'number' is not defined"
          ]
        }
      ]
    },
    {
      "cell_type": "code",
      "metadata": {
        "id": "UFADo70GI_DV",
        "colab_type": "code",
        "colab": {
          "base_uri": "https://localhost:8080/",
          "height": 195
        },
        "outputId": "7c6c331a-e072-4546-d8c3-f0bdcdd2e1dd"
      },
      "source": [
        "def bigger_number(X, Y):\n",
        "  answer = 0\n",
        "  X = int(input('Please enter a number: '))\n",
        "  Y = int(input('Please enter another number: '))\n",
        "  if X > Y:\n",
        "    answer = X\n",
        "  elif X < Y:\n",
        "    answer = Y\n",
        "  else:\n",
        "    answer = 'The two numbers are equal'\n",
        "  return answer\n",
        "\n",
        "bigger_number(X, Y)"
      ],
      "execution_count": 3,
      "outputs": [
        {
          "output_type": "error",
          "ename": "NameError",
          "evalue": "ignored",
          "traceback": [
            "\u001b[0;31m---------------------------------------------------------------------------\u001b[0m",
            "\u001b[0;31mNameError\u001b[0m                                 Traceback (most recent call last)",
            "\u001b[0;32m<ipython-input-3-372e8b292603>\u001b[0m in \u001b[0;36m<module>\u001b[0;34m()\u001b[0m\n\u001b[1;32m     11\u001b[0m   \u001b[0;32mreturn\u001b[0m \u001b[0manswer\u001b[0m\u001b[0;34m\u001b[0m\u001b[0;34m\u001b[0m\u001b[0m\n\u001b[1;32m     12\u001b[0m \u001b[0;34m\u001b[0m\u001b[0m\n\u001b[0;32m---> 13\u001b[0;31m \u001b[0mbigger_number\u001b[0m\u001b[0;34m(\u001b[0m\u001b[0mX\u001b[0m\u001b[0;34m,\u001b[0m \u001b[0mY\u001b[0m\u001b[0;34m)\u001b[0m\u001b[0;34m\u001b[0m\u001b[0;34m\u001b[0m\u001b[0m\n\u001b[0m",
            "\u001b[0;31mNameError\u001b[0m: name 'X' is not defined"
          ]
        }
      ]
    },
    {
      "cell_type": "code",
      "metadata": {
        "id": "pu4luIV-xNah",
        "colab_type": "code",
        "colab": {
          "base_uri": "https://localhost:8080/",
          "height": 212
        },
        "outputId": "d1db7dc0-8111-4a18-bc2b-e358b1f04a00"
      },
      "source": [
        "print('First enter your own age, then enter the age of your friend.')\n",
        "bigger_number(X, Y)\n",
        "print('The older of the two people is ' + str(answer) + ' years old.' )"
      ],
      "execution_count": 1,
      "outputs": [
        {
          "output_type": "stream",
          "text": [
            "First enter your own age, then enter the age of your friend.\n"
          ],
          "name": "stdout"
        },
        {
          "output_type": "error",
          "ename": "NameError",
          "evalue": "ignored",
          "traceback": [
            "\u001b[0;31m---------------------------------------------------------------------------\u001b[0m",
            "\u001b[0;31mNameError\u001b[0m                                 Traceback (most recent call last)",
            "\u001b[0;32m<ipython-input-1-c2341acb7c17>\u001b[0m in \u001b[0;36m<module>\u001b[0;34m()\u001b[0m\n\u001b[1;32m      1\u001b[0m \u001b[0mprint\u001b[0m\u001b[0;34m(\u001b[0m\u001b[0;34m'First enter your own age, then enter the age of your friend.'\u001b[0m\u001b[0;34m)\u001b[0m\u001b[0;34m\u001b[0m\u001b[0;34m\u001b[0m\u001b[0m\n\u001b[0;32m----> 2\u001b[0;31m \u001b[0mbigger_number\u001b[0m\u001b[0;34m(\u001b[0m\u001b[0mX\u001b[0m\u001b[0;34m,\u001b[0m \u001b[0mY\u001b[0m\u001b[0;34m)\u001b[0m\u001b[0;34m\u001b[0m\u001b[0;34m\u001b[0m\u001b[0m\n\u001b[0m\u001b[1;32m      3\u001b[0m \u001b[0mprint\u001b[0m\u001b[0;34m(\u001b[0m\u001b[0;34m'The older of the two people is '\u001b[0m \u001b[0;34m+\u001b[0m \u001b[0mstr\u001b[0m\u001b[0;34m(\u001b[0m\u001b[0manswer\u001b[0m\u001b[0;34m)\u001b[0m \u001b[0;34m+\u001b[0m \u001b[0;34m' years old.'\u001b[0m \u001b[0;34m)\u001b[0m\u001b[0;34m\u001b[0m\u001b[0;34m\u001b[0m\u001b[0m\n",
            "\u001b[0;31mNameError\u001b[0m: name 'bigger_number' is not defined"
          ]
        }
      ]
    },
    {
      "cell_type": "code",
      "metadata": {
        "id": "QXLKHZqdCKsE",
        "colab_type": "code",
        "colab": {
          "base_uri": "https://localhost:8080/",
          "height": 168
        },
        "outputId": "8d72c4c5-d369-4182-b4e9-999971e3e7d2"
      },
      "source": [
        "def play_the_game(number):\n",
        " count = 0\n",
        " print('I have chosen a number between 1 and 100. Can you guess it?')\n",
        " while True:\n",
        "  guess = int(input('Take a guess: '))\n",
        "  count = count + 1\n",
        "  if guess < number:\n",
        "    print('Your guess is too low. Try again.')\n",
        "  elif guess > number: \n",
        "    print('Your guess is too high. Try again.')\n",
        "  else:\n",
        "    break\n",
        " print('You correctly guessed my number! It took you ' + str(count) + ' guesses.')\n",
        "\n",
        "play_the_game(27)"
      ],
      "execution_count": 12,
      "outputs": [
        {
          "output_type": "stream",
          "text": [
            "I have chosen a number between 1 and 100. Can you guess it?\n",
            "Take a guess: 85\n",
            "Your guess is too high. Try again.\n",
            "Take a guess: 30\n",
            "Your guess is too high. Try again.\n",
            "Take a guess: 12\n",
            "Your guess is too low. Try again.\n",
            "Take a guess: 27\n",
            "You correctly guessed my number! It took you 4 guesses.\n"
          ],
          "name": "stdout"
        }
      ]
    },
    {
      "cell_type": "code",
      "metadata": {
        "id": "ibzgh96iDoqE",
        "colab_type": "code",
        "colab": {
          "base_uri": "https://localhost:8080/",
          "height": 302
        },
        "outputId": "1eb94ece-ab23-4123-9bfd-d509adeabdfd"
      },
      "source": [
        "import random    #this is just me testing to be sure the function would work with the random number generator\n",
        "\n",
        "play_the_game(random.randint(1, 100))"
      ],
      "execution_count": 13,
      "outputs": [
        {
          "output_type": "stream",
          "text": [
            "I have chosen a number between 1 and 100. Can you guess it?\n",
            "Take a guess: 54\n",
            "Your guess is too high. Try again.\n",
            "Take a guess: 40\n",
            "Your guess is too high. Try again.\n",
            "Take a guess: 30\n",
            "Your guess is too high. Try again.\n",
            "Take a guess: 20\n",
            "Your guess is too high. Try again.\n",
            "Take a guess: 10\n",
            "Your guess is too high. Try again.\n",
            "Take a guess: 5\n",
            "Your guess is too high. Try again.\n",
            "Take a guess: 2\n",
            "Your guess is too low. Try again.\n",
            "Take a guess: 3\n",
            "You correctly guessed my number! It took you 8 guesses.\n"
          ],
          "name": "stdout"
        }
      ]
    }
  ]
}