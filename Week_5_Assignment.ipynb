{
  "nbformat": 4,
  "nbformat_minor": 0,
  "metadata": {
    "colab": {
      "name": "Week 5 Assignment.ipynb",
      "provenance": [],
      "authorship_tag": "ABX9TyPBCvrF1sE7RThv/rRlHJ6v",
      "include_colab_link": true
    },
    "kernelspec": {
      "name": "python3",
      "display_name": "Python 3"
    }
  },
  "cells": [
    {
      "cell_type": "markdown",
      "metadata": {
        "id": "view-in-github",
        "colab_type": "text"
      },
      "source": [
        "<a href=\"https://colab.research.google.com/github/alyssaboynton19/Intro-Python/blob/master/Week_5_Assignment.ipynb\" target=\"_parent\"><img src=\"https://colab.research.google.com/assets/colab-badge.svg\" alt=\"Open In Colab\"/></a>"
      ]
    },
    {
      "cell_type": "code",
      "metadata": {
        "id": "FgDGBv3jCyOg",
        "colab_type": "code",
        "colab": {
          "base_uri": "https://localhost:8080/",
          "height": 50
        },
        "outputId": "67db43c7-4eed-4433-8fae-d8283ecc1331"
      },
      "source": [
        "def day_of_the_week(day):\n",
        "  if day == 1:\n",
        "    return 'Wednesday'\n",
        "  elif day == 2:\n",
        "    return 'Thursday'\n",
        "  elif day == 3:\n",
        "    return 'Friday'\n",
        "  elif day == 4:\n",
        "    return 'Saturday'\n",
        "  elif day == 5:\n",
        "    return 'Sunday'\n",
        "  elif day == 6:\n",
        "    return 'Monday'\n",
        "  elif day == 7:\n",
        "    return 'Tuesday'\n",
        "\n",
        "print(\"The 7th day of the week is\", day_of_the_week(7))\n",
        "\n",
        "print(\"The 5th day of the week is\", day_of_the_week(5))"
      ],
      "execution_count": 1,
      "outputs": [
        {
          "output_type": "stream",
          "text": [
            "The 7th day of the week is Tuesday\n",
            "The 5th day of the week is Sunday\n"
          ],
          "name": "stdout"
        }
      ]
    },
    {
      "cell_type": "code",
      "metadata": {
        "id": "jZP08qSWD0-n",
        "colab_type": "code",
        "colab": {
          "base_uri": "https://localhost:8080/",
          "height": 67
        },
        "outputId": "cbb58953-7a68-4fc9-bedf-2da424a3fff1"
      },
      "source": [
        "def january_day(day_number):\n",
        "  while day_number > 7:\n",
        "    day_number = day_number - 7\n",
        "  return day_of_the_week(day_number)\n",
        "  \n",
        "\n",
        "\n",
        "\n",
        "#This should print \"Wednesday\"\n",
        "print(\"The 1st Day of January is\", january_day(1))\n",
        "\n",
        "#This should print \"Thursday\"\n",
        "print(\"The 30th day in January is\", january_day(30))\n",
        "\n",
        "#This should print \"Sunday\"\n",
        "print(\"The 19th day in January is\", january_day(19))"
      ],
      "execution_count": 2,
      "outputs": [
        {
          "output_type": "stream",
          "text": [
            "The 1st Day of January is Wednesday\n",
            "The 30th day in January is Thursday\n",
            "The 19th day in January is Sunday\n"
          ],
          "name": "stdout"
        }
      ]
    },
    {
      "cell_type": "code",
      "metadata": {
        "id": "fPcfCn1tFgfq",
        "colab_type": "code",
        "colab": {
          "base_uri": "https://localhost:8080/",
          "height": 67
        },
        "outputId": "73e9efc0-4b9d-486b-cfff-09630ebdedef"
      },
      "source": [
        "def number_to_day(X):\n",
        "  while X > 7:\n",
        "    X = X - 7\n",
        "  return day_of_the_week(X)\n",
        "\n",
        "\n",
        "#This should print \"Wednesday\"\n",
        "print(\"The 1st Day of 2020 is\", number_to_day(1))\n",
        "\n",
        "#This should print \"Sunday\"\n",
        "print(\"The 19th day in 2020 is\", number_to_day(19))\n",
        "\n",
        "#This should print \"Thursday\"\n",
        "print(\"The 100th day in 2020 is\", number_to_day(100))"
      ],
      "execution_count": 3,
      "outputs": [
        {
          "output_type": "stream",
          "text": [
            "The 1st Day of 2020 is Wednesday\n",
            "The 19th day in 2020 is Sunday\n",
            "The 100th day in 2020 is Thursday\n"
          ],
          "name": "stdout"
        }
      ]
    },
    {
      "cell_type": "code",
      "metadata": {
        "id": "pY6RHepOGL2x",
        "colab_type": "code",
        "colab": {
          "base_uri": "https://localhost:8080/",
          "height": 67
        },
        "outputId": "4967ecc9-5aa9-4c65-b6ab-6bac2f658908"
      },
      "source": [
        "def month_day_to_number(month_num, day_num):\n",
        "  if month_num > 1:\n",
        "    day_num = day_num + 31\n",
        "  return day_num\n",
        "\n",
        "\n",
        "#This should print 1\n",
        "print(\"January 1st is the number\", month_day_to_number(1,1), \"day of 2020\")\n",
        "\n",
        "#This should print 30\n",
        "print(\"January 30th is the number\", month_day_to_number(1,30), \"day of 2020\")\n",
        "\n",
        "#This should print 60\n",
        "print(\"February 29th is the number\", month_day_to_number(2,29), \"day of 2020\")"
      ],
      "execution_count": 4,
      "outputs": [
        {
          "output_type": "stream",
          "text": [
            "January 1st is the number 1 day of 2020\n",
            "January 30th is the number 30 day of 2020\n",
            "February 29th is the number 60 day of 2020\n"
          ],
          "name": "stdout"
        }
      ]
    },
    {
      "cell_type": "code",
      "metadata": {
        "id": "O2Y6Z1L9HIcJ",
        "colab_type": "code",
        "colab": {
          "base_uri": "https://localhost:8080/",
          "height": 218
        },
        "outputId": "be3b31b9-808a-43f4-dfe1-5d6c2a370d52"
      },
      "source": [
        "def month_day_to_number(month_num, day_num):\n",
        "  if month_num > 1:\n",
        "    day_num = day_num + 31  #Jan\n",
        "  if month_num > 2:\n",
        "    day_num = day_num + 29  #Feb\n",
        "  if month_num > 3:\n",
        "    day_num = day_num + 31  #Mar\n",
        "  if month_num > 4:\n",
        "    day_num = day_num + 30  #Apr\n",
        "  if month_num > 5:\n",
        "    day_num = day_num + 31  #May\n",
        "  if month_num > 6:\n",
        "    day_num = day_num + 30  #Jun\n",
        "  if month_num > 7:\n",
        "    day_num = day_num + 31  #Jul\n",
        "  if month_num > 8:\n",
        "    day_num = day_num + 31  #Aug\n",
        "  if month_num > 9:\n",
        "    day_num = day_num + 30  #Sep\n",
        "  if month_num > 10:\n",
        "    day_num = day_num + 31  #Oct\n",
        "  if month_num > 11:\n",
        "    day_num = day_num + 30  #Nov\n",
        "  return day_num\n",
        "\n",
        "\n",
        "\n",
        "print(month_day_to_number(1, 23))\n",
        "print(month_day_to_number(2, 23))\n",
        "print(month_day_to_number(3, 23))\n",
        "print(month_day_to_number(4, 23))\n",
        "print(month_day_to_number(5, 23))\n",
        "print(month_day_to_number(6, 23))\n",
        "print(month_day_to_number(7, 23))\n",
        "print(month_day_to_number(8, 23))\n",
        "print(month_day_to_number(9, 23))\n",
        "print(month_day_to_number(10, 23))\n",
        "print(month_day_to_number(11, 23))\n",
        "print(month_day_to_number(12, 23))\n",
        "\n"
      ],
      "execution_count": 5,
      "outputs": [
        {
          "output_type": "stream",
          "text": [
            "23\n",
            "54\n",
            "83\n",
            "114\n",
            "144\n",
            "175\n",
            "205\n",
            "236\n",
            "267\n",
            "297\n",
            "328\n",
            "358\n"
          ],
          "name": "stdout"
        }
      ]
    },
    {
      "cell_type": "code",
      "metadata": {
        "id": "CrYpeoT0MsCZ",
        "colab_type": "code",
        "colab": {
          "base_uri": "https://localhost:8080/",
          "height": 50
        },
        "outputId": "ef4b98cd-978a-4525-c41b-7dd46477b337"
      },
      "source": [
        "def month_to_num(month):\n",
        "  if month == 'January':\n",
        "    return 1\n",
        "  elif month == 'February':\n",
        "    return 2\n",
        "  elif month == 'March':\n",
        "    return 3\n",
        "  elif month == 'April':\n",
        "    return 4\n",
        "  elif month == 'May':\n",
        "    return 5\n",
        "  elif month == 'June':\n",
        "    return 6\n",
        "  elif month == 'July':\n",
        "    return 7\n",
        "  elif month == 'August':\n",
        "    return 8\n",
        "  elif month == 'September':\n",
        "    return 9\n",
        "  elif month == 'October':\n",
        "    return 10\n",
        "  elif month == 'November':\n",
        "    return 11\n",
        "  elif month == 'December':\n",
        "    return 12\n",
        "\n",
        "\n",
        "\n",
        "#This should print 3\n",
        "print(\"March is the number\", month_to_num(\"March\"), \"month of the year\")\n",
        "\n",
        "#This should print 11\n",
        "print(\"November is the number\", month_to_num(\"November\"), \"month of the year\")\n"
      ],
      "execution_count": 6,
      "outputs": [
        {
          "output_type": "stream",
          "text": [
            "March is the number 3 month of the year\n",
            "November is the number 11 month of the year\n"
          ],
          "name": "stdout"
        }
      ]
    },
    {
      "cell_type": "code",
      "metadata": {
        "id": "Bi9xjbyLNm0b",
        "colab_type": "code",
        "colab": {
          "base_uri": "https://localhost:8080/",
          "height": 67
        },
        "outputId": "72007f3a-a0a1-425f-e2c8-f9068897f379"
      },
      "source": [
        "def what_day_of_the_week(month, day_num):\n",
        "  month = month_to_num(month)\n",
        "  day = month_day_to_number(month, day_num)\n",
        "  X = number_to_day(day)\n",
        "  return X\n",
        "\n",
        "\n",
        "\n",
        "#This should print \"Monday\"\n",
        "print(\"September 21st, 2020 is a\", what_day_of_the_week(\"September\", 21))\n",
        "\n",
        "#This should print \"Saturday\"\n",
        "print(\"October 31st, 2020 is a\", what_day_of_the_week(\"October\", 31))\n",
        "\n",
        "#This should print \"Thursday\"\n",
        "print(\"November 26th, 2020 is a\", what_day_of_the_week(\"November\", 26))"
      ],
      "execution_count": 7,
      "outputs": [
        {
          "output_type": "stream",
          "text": [
            "September 21st, 2020 is a Monday\n",
            "October 31st, 2020 is a Saturday\n",
            "November 26th, 2020 is a Thursday\n"
          ],
          "name": "stdout"
        }
      ]
    },
    {
      "cell_type": "code",
      "metadata": {
        "id": "CbDwk2Bq1W6X",
        "colab_type": "code",
        "colab": {
          "base_uri": "https://localhost:8080/",
          "height": 67
        },
        "outputId": "1d6fadce-aa30-4c06-bb07-03f158371a3b"
      },
      "source": [
        "def day_of_the_week_2021(day):     #extra question 1\n",
        "  if day == 6:\n",
        "    return 'Wednesday'\n",
        "  elif day == 7:\n",
        "    return 'Thursday'\n",
        "  elif day == 1:\n",
        "    return 'Friday'\n",
        "  elif day == 2:\n",
        "    return 'Saturday'\n",
        "  elif day == 3:\n",
        "    return 'Sunday'\n",
        "  elif day == 4:\n",
        "    return 'Monday'\n",
        "  elif day == 5:\n",
        "    return 'Tuesday'\n",
        "\n",
        "def number_to_day_2021(X):\n",
        "  while X > 7:\n",
        "    X = X - 7\n",
        "  return day_of_the_week_2021(X)\n",
        "\n",
        "\n",
        "print(\"The 1st Day of 2021 is\", number_to_day_2021(1))\n",
        "\n",
        "print(\"The 19th day in 2021 is\", number_to_day_2021(19))\n",
        "\n",
        "print(\"The 100th day in 2021 is\", number_to_day_2021(100))"
      ],
      "execution_count": 8,
      "outputs": [
        {
          "output_type": "stream",
          "text": [
            "The 1st Day of 2021 is Friday\n",
            "The 19th day in 2021 is Tuesday\n",
            "The 100th day in 2021 is Saturday\n"
          ],
          "name": "stdout"
        }
      ]
    },
    {
      "cell_type": "code",
      "metadata": {
        "id": "pfsqc9Wj2Uoj",
        "colab_type": "code",
        "colab": {
          "base_uri": "https://localhost:8080/",
          "height": 67
        },
        "outputId": "2bf43c8b-def8-4250-9c0a-8bb2b787262f"
      },
      "source": [
        "def month_day_to_number_2021(month_num, day_num):     #extra question 2\n",
        "  if month_num > 1:\n",
        "    day_num = day_num + 31  #Jan\n",
        "  if month_num > 2:\n",
        "    day_num = day_num + 28  #Feb\n",
        "  if month_num > 3:\n",
        "    day_num = day_num + 31  #Mar\n",
        "  if month_num > 4:\n",
        "    day_num = day_num + 30  #Apr\n",
        "  if month_num > 5:\n",
        "    day_num = day_num + 31  #May\n",
        "  if month_num > 6:\n",
        "    day_num = day_num + 30  #Jun\n",
        "  if month_num > 7:\n",
        "    day_num = day_num + 31  #Jul\n",
        "  if month_num > 8:\n",
        "    day_num = day_num + 31  #Aug\n",
        "  if month_num > 9:\n",
        "    day_num = day_num + 30  #Sep\n",
        "  if month_num > 10:\n",
        "    day_num = day_num + 31  #Oct\n",
        "  if month_num > 11:\n",
        "    day_num = day_num + 30  #Nov\n",
        "  return day_num\n",
        "\n",
        "\n",
        "\n",
        "def what_day_of_the_week_2021(month, day_num, year):\n",
        "  month = month_to_num(month)\n",
        "  day = month_day_to_number_2021(month, day_num)\n",
        "  X = number_to_day_2021(day)\n",
        "  return X\n",
        "\n",
        "\n",
        "\n",
        "print(\"September 21st, 2021 is a\", what_day_of_the_week_2021(\"September\", 21, 2021))\n",
        "\n",
        "print(\"October 31st, 2021 is a\", what_day_of_the_week_2021(\"October\", 31, 2021))\n",
        "\n",
        "print(\"November 26th, 2021 is a\", what_day_of_the_week_2021(\"November\", 26, 2021))\n"
      ],
      "execution_count": 9,
      "outputs": [
        {
          "output_type": "stream",
          "text": [
            "September 21st, 2021 is a Tuesday\n",
            "October 31st, 2021 is a Sunday\n",
            "November 26th, 2021 is a Friday\n"
          ],
          "name": "stdout"
        }
      ]
    },
    {
      "cell_type": "code",
      "metadata": {
        "id": "2BSt3M0o_0yx",
        "colab_type": "code",
        "colab": {
          "base_uri": "https://localhost:8080/",
          "height": 84
        },
        "outputId": "a8d6aa7a-706e-46e1-d83f-2e70da45c479"
      },
      "source": [
        "def day_of_the_week_years(day, year):     #extra question 3      \n",
        "  if year < 2025:\n",
        "    day = (day + (year - 2021)) % 7\n",
        "    if day == 6:\n",
        "      return 'Wednesday'\n",
        "    if day == 0:\n",
        "      return 'Thursday'\n",
        "    if day == 1:\n",
        "      return 'Friday'\n",
        "    if day == 2:\n",
        "      return 'Saturday'\n",
        "    if day == 3:\n",
        "      return 'Sunday'\n",
        "    if day == 4:\n",
        "      return 'Monday'\n",
        "    if day == 5:\n",
        "      return 'Tuesday'\n",
        "  elif year == 2025:\n",
        "    if day == 1:\n",
        "      return 'Wednesday'\n",
        "    if day == 2:\n",
        "      return 'Thursday'\n",
        "    if day == 3:\n",
        "      return 'Friday'\n",
        "    if day == 4:\n",
        "      return 'Saturday'\n",
        "    if day == 5:\n",
        "      return 'Sunday'\n",
        "    if day == 6:\n",
        "      return 'Monday'\n",
        "    if day == 7:\n",
        "      return 'Tuesday'\n",
        "\n",
        "def number_to_day_years(X, year):\n",
        "  while X > 7:\n",
        "    X = X - 7\n",
        "  return day_of_the_week_years(X, year,)\n",
        "\n",
        "def month_day_to_number_years(month_num, day_num, year):     \n",
        "  if month_num > 1:\n",
        "    day_num = day_num + 31  #Jan\n",
        "  if month_num > 2:\n",
        "    if year == 2024:\n",
        "      day_num = day_num + 29  #Feb\n",
        "    else:\n",
        "      day_num = day_num + 28\n",
        "  if month_num > 3:\n",
        "    day_num = day_num + 31  #Mar\n",
        "  if month_num > 4:\n",
        "    day_num = day_num + 30  #Apr\n",
        "  if month_num > 5:\n",
        "    day_num = day_num + 31  #May\n",
        "  if month_num > 6:\n",
        "    day_num = day_num + 30  #Jun\n",
        "  if month_num > 7:\n",
        "    day_num = day_num + 31  #Jul\n",
        "  if month_num > 8:\n",
        "    day_num = day_num + 31  #Aug\n",
        "  if month_num > 9:\n",
        "    day_num = day_num + 30  #Sep\n",
        "  if month_num > 10:\n",
        "    day_num = day_num + 31  #Oct\n",
        "  if month_num > 11:\n",
        "    day_num = day_num + 30  #Nov\n",
        "  return day_num\n",
        "\n",
        "def what_day_of_the_week_years(month, day_num, year):\n",
        "  month = month_to_num(month)\n",
        "  day = month_day_to_number_years(month, day_num, year)\n",
        "  X = number_to_day_years(day, year)\n",
        "  return X\n",
        "\n",
        "\n",
        "print(\"September 21st, 2022 is a\", what_day_of_the_week_years(\"September\", 21, 2022))\n",
        "\n",
        "print(\"October 31st, 2025 is a\", what_day_of_the_week_years(\"October\", 31, 2025))\n",
        "\n",
        "print(\"November 26th, 2024 is a\", what_day_of_the_week_years(\"November\", 26, 2024))\n",
        "\n",
        "print('December 25th, 2023 is a', what_day_of_the_week_years('December', 25, 2023))"
      ],
      "execution_count": 10,
      "outputs": [
        {
          "output_type": "stream",
          "text": [
            "September 21st, 2022 is a Wednesday\n",
            "October 31st, 2025 is a Friday\n",
            "November 26th, 2024 is a Tuesday\n",
            "December 25th, 2023 is a Monday\n"
          ],
          "name": "stdout"
        }
      ]
    }
  ]
}