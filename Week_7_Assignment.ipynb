{
  "nbformat": 4,
  "nbformat_minor": 0,
  "metadata": {
    "colab": {
      "name": "Week 7 Assignment",
      "provenance": [],
      "authorship_tag": "ABX9TyOG8Qtl/FDRTmUecZlAZuUy",
      "include_colab_link": true
    },
    "kernelspec": {
      "name": "python3",
      "display_name": "Python 3"
    }
  },
  "cells": [
    {
      "cell_type": "markdown",
      "metadata": {
        "id": "view-in-github",
        "colab_type": "text"
      },
      "source": [
        "<a href=\"https://colab.research.google.com/github/alyssaboynton19/Intro-Python/blob/master/Week_7_Assignment.ipynb\" target=\"_parent\"><img src=\"https://colab.research.google.com/assets/colab-badge.svg\" alt=\"Open In Colab\"/></a>"
      ]
    },
    {
      "cell_type": "code",
      "metadata": {
        "id": "DFG0BpGshQtc",
        "outputId": "675d1f1a-538f-4acf-f740-bbacdf9d6ae9",
        "colab": {
          "base_uri": "https://localhost:8080/"
        }
      },
      "source": [
        "greeting = 'Hello World'   #0\n",
        "print(greeting)\n",
        "print(greeting.upper())\n",
        "print(greeting.lower())"
      ],
      "execution_count": 1,
      "outputs": [
        {
          "output_type": "stream",
          "text": [
            "Hello World\n",
            "HELLO WORLD\n",
            "hello world\n"
          ],
          "name": "stdout"
        }
      ]
    },
    {
      "cell_type": "code",
      "metadata": {
        "id": "tTXbxnf3hlhC",
        "outputId": "d1ea5543-bfc7-4673-e402-e34c8a69df42",
        "colab": {
          "base_uri": "https://localhost:8080/"
        }
      },
      "source": [
        "def hasVowels(str):      #1\n",
        "  str = str.lower()\n",
        "  for letter in str:\n",
        "    if letter in 'aeiou':\n",
        "      return True\n",
        "  else: \n",
        "    return False\n",
        "\n",
        "\n",
        "word = \"berry\"\n",
        "not_word = \"fghjk\"\n",
        "\n",
        "if hasVowels(word):\n",
        "  print(\"The string\", word, \"has at least one vowel\")\n",
        "else:\n",
        "  print(\"The string\", word, \"does not have any vowels\")\n",
        "\n",
        "if hasVowels(not_word):\n",
        "  print(\"The string\", not_word, \"has at least one vowel\")\n",
        "else:\n",
        "  print(\"The string\", not_word, \"does not have any vowels\")"
      ],
      "execution_count": 2,
      "outputs": [
        {
          "output_type": "stream",
          "text": [
            "The string berry has at least one vowel\n",
            "The string fghjk does not have any vowels\n"
          ],
          "name": "stdout"
        }
      ]
    },
    {
      "cell_type": "code",
      "metadata": {
        "id": "uVO3hM-VkqLp",
        "outputId": "324ef96b-523a-416b-f22f-a231750d7a9c",
        "colab": {
          "base_uri": "https://localhost:8080/"
        }
      },
      "source": [
        "while True:        #2\n",
        "  user_word = input('Please enter a word: ')\n",
        "  user_word.lower()\n",
        "  if hasVowels(user_word) == True:\n",
        "    print('You entered a word with at least one vowel!')\n",
        "    break\n",
        "  else:\n",
        "    print('That word doesn\\'t have a vowel! Try again.')"
      ],
      "execution_count": 6,
      "outputs": [
        {
          "output_type": "stream",
          "text": [
            "Please enter a word: jklm\n",
            "That word doesn't have a vowel! Try again.\n",
            "Please enter a word: vowel\n",
            "You entered a word with at least one vowel!\n"
          ],
          "name": "stdout"
        }
      ]
    },
    {
      "cell_type": "code",
      "metadata": {
        "id": "fYx5qIaelbGt",
        "outputId": "5235b39e-4cfc-46aa-d0e7-82de5a4c5026",
        "colab": {
          "base_uri": "https://localhost:8080/"
        }
      },
      "source": [
        "def countVowels(str):     #3\n",
        "  str = str.lower()        \n",
        "  count = 0\n",
        "  for letter in str:\n",
        "    if letter in 'aeiou':      #disclaimer: I don't consider y a vowel and honestly I don't even know why we say it sometimes is \n",
        "      count = count + 1\n",
        "  return count\n",
        "\n",
        "name1 = \"matthew\"\n",
        "name2 = \"lepinski\"\n",
        "\n",
        "count1 = countVowels(name1)\n",
        "count2 = countVowels(name2)\n",
        "\n",
        "print(name1, \"has\", count1, \"vowels in it\")\n",
        "print(name2, \"has\", count2, \"vowels in it\")\n"
      ],
      "execution_count": 13,
      "outputs": [
        {
          "output_type": "stream",
          "text": [
            "matthew has 2 vowels in it\n",
            "lepinski has 3 vowels in it\n"
          ],
          "name": "stdout"
        }
      ]
    },
    {
      "cell_type": "code",
      "metadata": {
        "id": "jmqh9gVDr_l4",
        "outputId": "ef98a093-9a2d-4b03-8560-6aab05f94d13",
        "colab": {
          "base_uri": "https://localhost:8080/"
        }
      },
      "source": [
        "word_list1 = []     #4\n",
        "user_word = input('Please enter a word or enter \"stop\" to stop: ')\n",
        "while not user_word.lower() == \"stop\":\n",
        "  word_list1.append(user_word)\n",
        "  user_word = input('Please enter a word or enter \"stop\" to stop: ')\n",
        "print('Your list included', word_list1)"
      ],
      "execution_count": 8,
      "outputs": [
        {
          "output_type": "stream",
          "text": [
            "Please enter a word or enter \"stop\" to stop: strawberry\n",
            "Please enter a word or enter \"stop\" to stop: apple\n",
            "Please enter a word or enter \"stop\" to stop: banana\n",
            "Please enter a word or enter \"stop\" to stop: stoP\n",
            "Your list included ['strawberry', 'apple', 'banana']\n"
          ],
          "name": "stdout"
        }
      ]
    },
    {
      "cell_type": "code",
      "metadata": {
        "id": "ya6VsXiByAZV",
        "outputId": "6ab861e1-bc5e-484d-dd10-aaa8b47340fd",
        "colab": {
          "base_uri": "https://localhost:8080/"
        }
      },
      "source": [
        "vowel_count = 0        #5\n",
        "for word in word_list1:\n",
        "  if not word.lower() == 'stop':\n",
        "    count = countVowels(word)\n",
        "    vowel_count = vowel_count + count\n",
        "print('Your list includes', vowel_count, 'vowels.')"
      ],
      "execution_count": 17,
      "outputs": [
        {
          "output_type": "stream",
          "text": [
            "Your list includes 7 vowels.\n"
          ],
          "name": "stdout"
        }
      ]
    },
    {
      "cell_type": "code",
      "metadata": {
        "id": "0pKVAQA-twbt",
        "outputId": "1412af3d-5043-4934-a031-5807d2f094ba",
        "colab": {
          "base_uri": "https://localhost:8080/"
        }
      },
      "source": [
        "word_list2 = []     #also 5--- I wasn't sure if you wanted to just use the existing list or to have the user enter words again, so I did both just in case\n",
        "vowel_count2 = 0\n",
        "user_word = input('Please enter a word or enter \"stop\" to stop: ')\n",
        "while not user_word.lower() == \"stop\":\n",
        "  word_list2.append(user_word)\n",
        "  count = countVowels(user_word)\n",
        "  vowel_count2 = vowel_count2 + count\n",
        "  user_word = input('Please enter a word or enter \"stop\" to stop: ')\n",
        "print('Your list includes', vowel_count2, 'vowels.')"
      ],
      "execution_count": 18,
      "outputs": [
        {
          "output_type": "stream",
          "text": [
            "Please enter a word or enter \"stop\" to stop: strawberry\n",
            "Please enter a word or enter \"stop\" to stop: apple\n",
            "Please enter a word or enter \"stop\" to stop: banana\n",
            "Please enter a word or enter \"stop\" to stop: Stop\n",
            "Your list includes 7 vowels.\n"
          ],
          "name": "stdout"
        }
      ]
    }
  ]
}