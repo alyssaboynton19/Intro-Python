{
  "nbformat": 4,
  "nbformat_minor": 0,
  "metadata": {
    "colab": {
      "name": "Week 12 Assignment",
      "provenance": [],
      "authorship_tag": "ABX9TyN4Wk4bDJE6HTeuorSjBPJb",
      "include_colab_link": true
    },
    "kernelspec": {
      "name": "python3",
      "display_name": "Python 3"
    }
  },
  "cells": [
    {
      "cell_type": "markdown",
      "metadata": {
        "id": "view-in-github",
        "colab_type": "text"
      },
      "source": [
        "<a href=\"https://colab.research.google.com/github/alyssaboynton19/Intro-Python/blob/master/Week_12_Assignment.ipynb\" target=\"_parent\"><img src=\"https://colab.research.google.com/assets/colab-badge.svg\" alt=\"Open In Colab\"/></a>"
      ]
    },
    {
      "cell_type": "code",
      "metadata": {
        "id": "nQxqRGhM0v2A",
        "outputId": "2621211f-28fc-49f7-b81f-830ae83925d7",
        "colab": {
          "base_uri": "https://localhost:8080/"
        }
      },
      "source": [
        "import pandas\n",
        "file_name = \"https://raw.githubusercontent.com/mlepinski/Python-Worksheets/master/states.csv\"\n",
        "state_data = pandas.read_csv(file_name)\n",
        "\n",
        "state_data['Pop'].median()"
      ],
      "execution_count": 1,
      "outputs": [
        {
          "output_type": "execute_result",
          "data": {
            "text/plain": [
              "3294394.0"
            ]
          },
          "metadata": {
            "tags": []
          },
          "execution_count": 1
        }
      ]
    },
    {
      "cell_type": "code",
      "metadata": {
        "id": "aeQjZJwGRW-4",
        "outputId": "f4f83397-d530-4a2b-fc96-23d7f885cd65",
        "colab": {
          "base_uri": "https://localhost:8080/"
        }
      },
      "source": [
        "import pandas\n",
        "file_name = \"https://raw.githubusercontent.com/mlepinski/Python-Worksheets/master/states.csv\"\n",
        "state_data = pandas.read_csv(file_name)\n",
        "\n",
        "m_count = 0\n",
        "for (row_num, row)  in state_data.iterrows():\n",
        "  if 'M' in row['Name']:\n",
        "    name_string = row['Name']\n",
        "    if name_string[0] == 'M':\n",
        "      m_count = m_count + 1\n",
        "print(m_count)"
      ],
      "execution_count": 2,
      "outputs": [
        {
          "output_type": "stream",
          "text": [
            "8\n"
          ],
          "name": "stdout"
        }
      ]
    },
    {
      "cell_type": "code",
      "metadata": {
        "id": "v-eX1My9USi8",
        "outputId": "064654b3-212f-4af7-a3f2-fc20b70868bb",
        "colab": {
          "base_uri": "https://localhost:8080/",
          "height": 195
        }
      },
      "source": [
        "import pandas\n",
        "\n",
        "file_name = \"https://raw.githubusercontent.com/mlepinski/Python-Worksheets/master/states.csv\"\n",
        "state_data = pandas.read_csv(file_name)\n",
        "\n",
        "state_data[\"Pop Density\"] = state_data[\"Pop\"] / state_data[\"Area\"]\n",
        "\n",
        "state_data.head()"
      ],
      "execution_count": 3,
      "outputs": [
        {
          "output_type": "execute_result",
          "data": {
            "text/html": [
              "<div>\n",
              "<style scoped>\n",
              "    .dataframe tbody tr th:only-of-type {\n",
              "        vertical-align: middle;\n",
              "    }\n",
              "\n",
              "    .dataframe tbody tr th {\n",
              "        vertical-align: top;\n",
              "    }\n",
              "\n",
              "    .dataframe thead th {\n",
              "        text-align: right;\n",
              "    }\n",
              "</style>\n",
              "<table border=\"1\" class=\"dataframe\">\n",
              "  <thead>\n",
              "    <tr style=\"text-align: right;\">\n",
              "      <th></th>\n",
              "      <th>Name</th>\n",
              "      <th>State</th>\n",
              "      <th>Area</th>\n",
              "      <th>Pop</th>\n",
              "      <th>Pop Density</th>\n",
              "    </tr>\n",
              "  </thead>\n",
              "  <tbody>\n",
              "    <tr>\n",
              "      <th>0</th>\n",
              "      <td>Alabama</td>\n",
              "      <td>AL</td>\n",
              "      <td>52423</td>\n",
              "      <td>4040587</td>\n",
              "      <td>77.076608</td>\n",
              "    </tr>\n",
              "    <tr>\n",
              "      <th>1</th>\n",
              "      <td>Alaska</td>\n",
              "      <td>AK</td>\n",
              "      <td>656424</td>\n",
              "      <td>550043</td>\n",
              "      <td>0.837939</td>\n",
              "    </tr>\n",
              "    <tr>\n",
              "      <th>2</th>\n",
              "      <td>Arizona</td>\n",
              "      <td>AZ</td>\n",
              "      <td>114006</td>\n",
              "      <td>3665228</td>\n",
              "      <td>32.149431</td>\n",
              "    </tr>\n",
              "    <tr>\n",
              "      <th>3</th>\n",
              "      <td>Arkansas</td>\n",
              "      <td>AR</td>\n",
              "      <td>53182</td>\n",
              "      <td>2350725</td>\n",
              "      <td>44.201516</td>\n",
              "    </tr>\n",
              "    <tr>\n",
              "      <th>4</th>\n",
              "      <td>California</td>\n",
              "      <td>CA</td>\n",
              "      <td>163707</td>\n",
              "      <td>29769021</td>\n",
              "      <td>181.843299</td>\n",
              "    </tr>\n",
              "  </tbody>\n",
              "</table>\n",
              "</div>"
            ],
            "text/plain": [
              "         Name State    Area       Pop  Pop Density\n",
              "0     Alabama    AL   52423   4040587    77.076608\n",
              "1      Alaska    AK  656424    550043     0.837939\n",
              "2     Arizona    AZ  114006   3665228    32.149431\n",
              "3    Arkansas    AR   53182   2350725    44.201516\n",
              "4  California    CA  163707  29769021   181.843299"
            ]
          },
          "metadata": {
            "tags": []
          },
          "execution_count": 3
        }
      ]
    },
    {
      "cell_type": "code",
      "metadata": {
        "id": "Fg1btYtDVlGn",
        "outputId": "205fb15d-c2e8-476d-96bb-e90a8b4b7a9f",
        "colab": {
          "base_uri": "https://localhost:8080/"
        }
      },
      "source": [
        "import pandas\n",
        "\n",
        "file_name = \"https://raw.githubusercontent.com/mlepinski/Python-Worksheets/master/states.csv\"\n",
        "state_data = pandas.read_csv(file_name)\n",
        "\n",
        "state_data[\"Pop Density\"] = state_data[\"Pop\"] / state_data[\"Area\"]\n",
        "\n",
        "max_popdens = state_data[\"Pop Density\"].max()\n",
        "max_popdens_row = state_data[ state_data[\"Pop Density\"]== max_popdens]\n",
        "print(\"The state with the highest population density is:\")\n",
        "print(max_popdens_row, \"\\n\")\n",
        "\n",
        "\n",
        "min_popdens = state_data[\"Pop Density\"].min()\n",
        "min_popdens_row = state_data[ state_data[\"Pop Density\"]== min_popdens]\n",
        "print(\"The state with the lowest population density is:\")\n",
        "print(min_popdens_row, \"\\n\")\n",
        "\n",
        "med_popdens = state_data[\"Pop Density\"].median()\n",
        "med_popdens_row = state_data[ state_data[\"Pop Density\"]== med_popdens]\n",
        "print(\"The state with the median population density is:\")\n",
        "print(med_popdens_row)"
      ],
      "execution_count": 4,
      "outputs": [
        {
          "output_type": "stream",
          "text": [
            "The state with the highest population density is:\n",
            "                   Name State  Area     Pop  Pop Density\n",
            "8  District of Columbia    DC    68  606900       8925.0 \n",
            "\n",
            "The state with the lowest population density is:\n",
            "     Name State    Area     Pop  Pop Density\n",
            "1  Alaska    AK  656424  550043     0.837939 \n",
            "\n",
            "The state with the median population density is:\n",
            "         Name State   Area      Pop  Pop Density\n",
            "49  Wisconsin    WI  65499  4891769    74.684636\n"
          ],
          "name": "stdout"
        }
      ]
    }
  ]
}