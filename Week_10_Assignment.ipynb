{
  "nbformat": 4,
  "nbformat_minor": 0,
  "metadata": {
    "colab": {
      "name": "Week 10 Assignment",
      "provenance": [],
      "authorship_tag": "ABX9TyN9aVB/7LatPvQaKyEc1VAB",
      "include_colab_link": true
    },
    "kernelspec": {
      "name": "python3",
      "display_name": "Python 3"
    }
  },
  "cells": [
    {
      "cell_type": "markdown",
      "metadata": {
        "id": "view-in-github",
        "colab_type": "text"
      },
      "source": [
        "<a href=\"https://colab.research.google.com/github/alyssaboynton19/Intro-Python/blob/master/Week_10_Assignment.ipynb\" target=\"_parent\"><img src=\"https://colab.research.google.com/assets/colab-badge.svg\" alt=\"Open In Colab\"/></a>"
      ]
    },
    {
      "cell_type": "code",
      "metadata": {
        "id": "qcQbu-K7R31A",
        "outputId": "3fbdac1d-3cb5-41ec-b51a-5dc84a8d00a6",
        "colab": {
          "base_uri": "https://localhost:8080/",
          "height": 50
        }
      },
      "source": [
        "import urllib.request\n",
        "\n",
        "def count_lines(filename):\n",
        "  count = 0\n",
        "  \n",
        "  my_file = urllib.request.urlopen(filename)\n",
        "  \n",
        "  for line in my_file:\n",
        "    line = line.decode(\"utf-8\")\n",
        "    count = count + 1\n",
        "  return(count)\n",
        "\n",
        "\n",
        "\n",
        "file_name1 = \"https://raw.githubusercontent.com/mlepinski/Python-Worksheets/master/Sonnets.txt\"     #test code\n",
        "answer1 = count_lines(file_name1)\n",
        "\n",
        "file_name2 = file_name = \"https://raw.githubusercontent.com/mlepinski/Python-Worksheets/master/coolWords.txt\"\n",
        "answer2 = count_lines(file_name2)\n",
        "\n",
        "print(\"First file number of lines:\" , answer1)                                                       #should return 2617\n",
        "print(\"Second file number of lines:\" , answer2)                                                      #should return 718"
      ],
      "execution_count": 1,
      "outputs": [
        {
          "output_type": "stream",
          "text": [
            "First file number of lines: 2617\n",
            "Second file number of lines: 718\n"
          ],
          "name": "stdout"
        }
      ]
    },
    {
      "cell_type": "code",
      "metadata": {
        "id": "VQHw1tUyVnFg",
        "outputId": "50b0ae08-18db-4d33-88a3-7d0db9594298",
        "colab": {
          "base_uri": "https://localhost:8080/",
          "height": 50
        }
      },
      "source": [
        "def lines_with_word(filename, word):\n",
        "  open_file = urllib.request.urlopen(filename)\n",
        "  count = 0\n",
        "  for line in open_file:\n",
        "    line = line.decode(\"utf-8\")\n",
        "    line = line.lower()\n",
        "    if word in line:\n",
        "      count = count + 1\n",
        "  return count\n",
        "\n",
        "\n",
        "file_name = \"https://raw.githubusercontent.com/mlepinski/Python-Worksheets/master/Sonnets.txt\"      #test code\n",
        "answer1 = lines_with_word(file_name, \"monument\")\n",
        "\n",
        "print(\"monument appears in \", answer1, \"lines\")                                                    \n",
        "\n",
        "answer2 = lines_with_word(file_name, \"war\")\n",
        "\n",
        "print(\"war appears in \", answer2, \"lines\")                                                          "
      ],
      "execution_count": 2,
      "outputs": [
        {
          "output_type": "stream",
          "text": [
            "monument appears in  3 lines\n",
            "war appears in  39 lines\n"
          ],
          "name": "stdout"
        }
      ]
    },
    {
      "cell_type": "code",
      "metadata": {
        "id": "gJ_BUuVGa-3a",
        "outputId": "4fce51f4-ba76-4edd-cc5a-5d4d82e013a1",
        "colab": {
          "base_uri": "https://localhost:8080/",
          "height": 50
        }
      },
      "source": [
        "def word_count(filename, the_word):\n",
        "  filename = urllib.request.urlopen(filename)\n",
        "  filename = filename.read()\n",
        "  filename_string = filename.decode(\"utf-8\")\n",
        "  no_line_breaks = filename_string.replace(\"\\n\", \" \")\n",
        "\n",
        "  no_line_breaks = no_line_breaks.replace(\",\", \"\")\n",
        "  no_line_breaks = no_line_breaks.replace(\".\", \"\")\n",
        "  no_line_breaks = no_line_breaks.replace(\";\", \"\")\n",
        "  no_line_breaks = no_line_breaks.replace(\"?\", \"\")\n",
        "  no_line_breaks = no_line_breaks.replace(\"!\", \"\")\n",
        "\n",
        "  word_list = no_line_breaks.split()\n",
        "  \n",
        "  word_count = 0 \n",
        "  for word in word_list:\n",
        "    if word.lower() == the_word:\n",
        "      word_count = word_count + 1\n",
        "  return word_count\n",
        "\n",
        "\n",
        "\n",
        "file_name = \"https://raw.githubusercontent.com/mlepinski/Python-Worksheets/master/Sonnets.txt\"        #test code\n",
        "answer1 = word_count(file_name, \"memory\")\n",
        "\n",
        "print(\"memory appears \", answer1, \"times\")\n",
        "\n",
        "answer2 = word_count(file_name, \"war\")\n",
        "\n",
        "print(\"war appears times\", answer2, \"times\")"
      ],
      "execution_count": 3,
      "outputs": [
        {
          "output_type": "stream",
          "text": [
            "memory appears  7 times\n",
            "war appears times 6 times\n"
          ],
          "name": "stdout"
        }
      ]
    },
    {
      "cell_type": "code",
      "metadata": {
        "id": "va8wqJv8gRy2",
        "outputId": "3e36457f-5407-4caa-8c9e-cfa283d74897",
        "colab": {
          "base_uri": "https://localhost:8080/",
          "height": 34
        }
      },
      "source": [
        "def word_frequency(filename, a_word):\n",
        " my_file = urllib.request.urlopen(filename)\n",
        " total_word_count = 0\n",
        "\n",
        " my_file = my_file.read()\n",
        " filename_string = my_file.decode(\"utf-8\")\n",
        " word_list = filename_string.split(\"\\n\")\n",
        "\n",
        " for item in word_list:\n",
        "   if str(item).isspace() or item == '':\n",
        "     word_list.remove(item)\n",
        " \n",
        " total_word_count = len(word_list)\n",
        "\n",
        " division = word_count(filename, a_word) / total_word_count \n",
        " percentage_word = division * 100\n",
        " return percentage_word\n",
        " \n",
        "file_name = \"https://raw.githubusercontent.com/mlepinski/Python-Worksheets/master/coolWords.txt\"\n",
        "answer = word_frequency(file_name, 'charmander')\n",
        "print('Your word makes up ', answer, ' percent of the total words in your file.')"
      ],
      "execution_count": 4,
      "outputs": [
        {
          "output_type": "stream",
          "text": [
            "Your word makes up  0.1392757660167131  percent of the total words in your file.\n"
          ],
          "name": "stdout"
        }
      ]
    },
    {
      "cell_type": "markdown",
      "metadata": {
        "id": "BaxrnZqZyK5g"
      },
      "source": [
        "Well, I would have actually done your little comparison thing at the end of the assignment, but I kept uploading stuff from Project Gutenberg and it would never let me have access to the raw link to the file like yours do. I think this might be because they're too long, but I tried something that was only 85kb (the smallest I could find), and it still didn't work. So yeah, I got pretty frustrated with it. \n",
        "\n",
        "\n",
        "Sorry ¯\\_(ツ)_/¯  (ps why doesn't the back slash show up? I just want my ascii shrug guy to woooooork)"
      ]
    }
  ]
}